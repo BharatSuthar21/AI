{
  "cells": [
    {
      "cell_type": "code",
      "execution_count": 1,
      "metadata": {
        "id": "pRmcRgesgJrM"
      },
      "outputs": [],
      "source": [
        "import random\n",
        "import json"
      ]
    },
    {
      "cell_type": "code",
      "execution_count": 2,
      "metadata": {
        "id": "nW_0yALC8q0k"
      },
      "outputs": [],
      "source": [
        "def list_to_string(state):\n",
        "    string=''\n",
        "    for i in state:\n",
        "        string += i\n",
        "    return string"
      ]
    },
    {
      "cell_type": "code",
      "execution_count": 30,
      "metadata": {
        "id": "czZ1ikB18q0m"
      },
      "outputs": [],
      "source": [
        "def player_turn(state):\n",
        "    num = state.count('-')\n",
        "    if num % 2 == 0:\n",
        "        return 'O'\n",
        "    else:\n",
        "        return 'X'"
      ]
    },
    {
      "cell_type": "code",
      "execution_count": 4,
      "metadata": {
        "id": "zgtboLzg8q0m"
      },
      "outputs": [],
      "source": [
        "def is_terminal(state):\n",
        "    if state[0] == state[1] == state[2] == 'X':\n",
        "        return True, 1\n",
        "    elif state[3] == state[4] == state[5] == 'X':\n",
        "        return True, 1\n",
        "    elif state[6] == state[7] == state[8] == 'X':\n",
        "        return True, 1\n",
        "    elif state[0] == state[3] == state[6] == 'X':\n",
        "        return True, 1\n",
        "    elif state[1] == state[4] == state[7] == 'X':\n",
        "        return True, 1\n",
        "    elif state[2] == state[5] == state[8] == 'X':\n",
        "        return True, 1\n",
        "    elif state[0] == state[4] == state[8] == 'X':\n",
        "        return True, 1\n",
        "    elif state[2] == state[4] == state[6] == 'X':\n",
        "        return True, 1\n",
        "    elif state[0] == state[1] == state[2] == 'O':\n",
        "        return True, -1\n",
        "    elif state[3] == state[4] == state[5] == 'O':\n",
        "        return True, -1\n",
        "    elif state[6] == state[7] == state[8] == 'O':\n",
        "        return True, -1\n",
        "    elif state[0] == state[3] == state[6] == 'O':\n",
        "        return True, -1\n",
        "    elif state[1] == state[4] == state[7] == 'O':\n",
        "        return True, -1\n",
        "    elif state[2] == state[5] == state[8] == 'O':\n",
        "        return True, -1\n",
        "    elif state[0] == state[4] == state[8] == 'O':\n",
        "        return True, -1\n",
        "    elif state[2] == state[4] == state[6] == 'O':\n",
        "        return True, -1\n",
        "    elif state.count('-') == 0:\n",
        "        return True, 0\n",
        "    else:\n",
        "        return False, 0"
      ]
    },
    {
      "cell_type": "code",
      "execution_count": 31,
      "metadata": {
        "id": "IyvrgX-u8q0m"
      },
      "outputs": [],
      "source": [
        "tree = {}\n",
        "terminal = []\n",
        "child_parent = {}\n",
        "Scores = {}\n",
        "def create_tree(state = ['-']*9):\n",
        "    global tree\n",
        "    string_of_state = list_to_string(state)\n",
        "    tree[string_of_state] = []\n",
        "    turn = player_turn(state)\n",
        "\n",
        "    if not is_terminal(state)[0]:\n",
        "\n",
        "        for i in range(9):\n",
        "            state_copy = state.copy()\n",
        "            if state[i] == '-':\n",
        "                state_copy[i] = turn\n",
        "                state_copy_string = list_to_string(state_copy)\n",
        "                tree[string_of_state].append(state_copy_string)\n",
        "\n",
        "                if state_copy_string not in child_parent.keys():\n",
        "                    child_parent[state_copy_string] = []\n",
        "                if string_of_state not in child_parent[state_copy_string]:\n",
        "                    child_parent[state_copy_string].append(string_of_state)\n",
        "\n",
        "\n",
        "                Scores[state_copy_string] = is_terminal(state_copy_string)[1]\n",
        "\n",
        "                create_tree(state_copy)\n",
        "    else:\n",
        "        if string_of_state not in terminal:\n",
        "            terminal.append(string_of_state)\n",
        "\n",
        "create_tree()\n",
        "child_parent['---------']=[None]\n",
        "Scores['---------'] = 0"
      ]
    },
    {
      "cell_type": "code",
      "execution_count": 41,
      "metadata": {
        "id": "CcxShaM58q0n"
      },
      "outputs": [],
      "source": [
        "alpha = 0.3104\n",
        "def update_helper(i, t1 = 0):\n",
        "    global alpha\n",
        "    t1 = Scores[i]\n",
        "    if i != '---------':\n",
        "        parents = child_parent[i]\n",
        "        for j in parents:\n",
        "            t2 = Scores[j]\n",
        "            value = t2 + alpha*(t1 - t2)\n",
        "            Scores[j] = value\n",
        "#             t1 = value\n",
        "            update_helper(j, t1)\n",
        "\n",
        "\n",
        "def update_value():\n",
        "    for i in terminal*100:\n",
        "        update_helper(i)\n",
        "    for k in range(10000):\n",
        "        num = random.randrange(958)\n",
        "        update_helper(terminal[num])\n",
        "\n",
        "update_value()\n"
      ]
    },
    {
      "cell_type": "code",
      "source": [
        "data_to_store = {'dict1':tree, 'dict3':Scores}\n",
        "\n",
        "json_data = json.dumps(data_to_store, indent=2)\n",
        "with open('Reinforcement_data.json', 'w') as json_file:\n",
        "    json_file.write(json_data)"
      ],
      "metadata": {
        "id": "2M4mZT7g1e0U"
      },
      "execution_count": 43,
      "outputs": []
    },
    {
      "cell_type": "code",
      "execution_count": 38,
      "metadata": {
        "id": "hZYQzK2r8q0n"
      },
      "outputs": [],
      "source": [
        "def position_for_move(state, action):\n",
        "    for i in range(9):\n",
        "        if state[i] == '-' and action[i] != '-':\n",
        "            return i\n",
        "\n",
        "def computers_move(state, player):\n",
        "    state = list_to_string(state)\n",
        "    childrens = tree[state]\n",
        "    score_dict = {}\n",
        "\n",
        "    for i in childrens:\n",
        "        score_dict[Scores[i]] = i\n",
        "\n",
        "    value = True\n",
        "    lst = [1,3,5,7,9]\n",
        "    while value:\n",
        "        num = random.randrange(5)\n",
        "        if player == lst[num]:\n",
        "            score = max(score_dict.keys())\n",
        "        else:\n",
        "            score = min(score_dict.keys())\n",
        "        value = position_for_move(state, score_dict[score])\n",
        "        if value is None:\n",
        "            del score_dict[score]\n",
        "        else:\n",
        "            return value"
      ]
    },
    {
      "cell_type": "code",
      "execution_count": 39,
      "metadata": {
        "id": "BypYYk-h8q0o"
      },
      "outputs": [],
      "source": [
        "def play_game():\n",
        "    state = ['-']*9\n",
        "    display(state)\n",
        "    player = 0\n",
        "    while not is_terminal(state)[0]:\n",
        "        if player % 2 != 0:\n",
        "            index = int(input(\"Enter position (0, 8):- \"))\n",
        "            state[index] = 'X'\n",
        "        else:\n",
        "            index = computers_move(state, player)\n",
        "            state[index]='O'\n",
        "\n",
        "        display(state)\n",
        "        player += 1\n",
        "        terminal = is_terminal(state)\n",
        "\n",
        "        if terminal[1] == -1:\n",
        "            return 'Sorry!! You lost'\n",
        "        elif terminal[1] == 1:\n",
        "            return 'Congrats You won'\n",
        "        elif terminal[0] and terminal[1] == 0:\n",
        "            return 'Match draw'"
      ]
    },
    {
      "cell_type": "code",
      "execution_count": 40,
      "metadata": {
        "id": "OC0Y--0X8q0o",
        "colab": {
          "base_uri": "https://localhost:8080/",
          "height": 938
        },
        "outputId": "9a47bbea-c461-4ba7-9530-d65c28a4deb9"
      },
      "outputs": [
        {
          "output_type": "stream",
          "name": "stdout",
          "text": [
            "-------------------\n",
            "|  -  |  -  |  -  |\n",
            "-------------------\n",
            "|  -  |  -  |  -  |\n",
            "-------------------\n",
            "|  -  |  -  |  -  |\n",
            "-------------------\n",
            "-------------------\n",
            "|  O  |  -  |  -  |\n",
            "-------------------\n",
            "|  -  |  -  |  -  |\n",
            "-------------------\n",
            "|  -  |  -  |  -  |\n",
            "-------------------\n",
            "Enter position (0, 8):- 1\n",
            "-------------------\n",
            "|  O  |  X  |  -  |\n",
            "-------------------\n",
            "|  -  |  -  |  -  |\n",
            "-------------------\n",
            "|  -  |  -  |  -  |\n",
            "-------------------\n",
            "-------------------\n",
            "|  O  |  X  |  O  |\n",
            "-------------------\n",
            "|  -  |  -  |  -  |\n",
            "-------------------\n",
            "|  -  |  -  |  -  |\n",
            "-------------------\n",
            "Enter position (0, 8):- 4\n",
            "-------------------\n",
            "|  O  |  X  |  O  |\n",
            "-------------------\n",
            "|  -  |  X  |  -  |\n",
            "-------------------\n",
            "|  -  |  -  |  -  |\n",
            "-------------------\n",
            "-------------------\n",
            "|  O  |  X  |  O  |\n",
            "-------------------\n",
            "|  -  |  X  |  -  |\n",
            "-------------------\n",
            "|  -  |  -  |  O  |\n",
            "-------------------\n",
            "Enter position (0, 8):- 7\n",
            "-------------------\n",
            "|  O  |  X  |  O  |\n",
            "-------------------\n",
            "|  -  |  X  |  -  |\n",
            "-------------------\n",
            "|  -  |  X  |  O  |\n",
            "-------------------\n"
          ]
        },
        {
          "output_type": "execute_result",
          "data": {
            "text/plain": [
              "'Congrats You won'"
            ],
            "application/vnd.google.colaboratory.intrinsic+json": {
              "type": "string"
            }
          },
          "metadata": {},
          "execution_count": 40
        }
      ],
      "source": [
        "play_game()"
      ]
    }
  ],
  "metadata": {
    "colab": {
      "provenance": []
    },
    "kaggle": {
      "accelerator": "none",
      "dataSources": [],
      "dockerImageVersionId": 30587,
      "isGpuEnabled": false,
      "isInternetEnabled": false,
      "language": "python",
      "sourceType": "notebook"
    },
    "kernelspec": {
      "display_name": "Python 3",
      "language": "python",
      "name": "python3"
    },
    "language_info": {
      "codemirror_mode": {
        "name": "ipython",
        "version": 3
      },
      "file_extension": ".py",
      "mimetype": "text/x-python",
      "name": "python",
      "nbconvert_exporter": "python",
      "pygments_lexer": "ipython3",
      "version": "3.10.12"
    }
  },
  "nbformat": 4,
  "nbformat_minor": 0
}