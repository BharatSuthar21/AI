{
  "nbformat": 4,
  "nbformat_minor": 0,
  "metadata": {
    "colab": {
      "provenance": []
    },
    "kernelspec": {
      "name": "python3",
      "display_name": "Python 3"
    },
    "language_info": {
      "name": "python"
    }
  },
  "cells": [
    {
      "cell_type": "code",
      "source": [
        "import json"
      ],
      "metadata": {
        "id": "0Su3dZvY2XT6"
      },
      "execution_count": 34,
      "outputs": []
    },
    {
      "cell_type": "code",
      "execution_count": 1,
      "metadata": {
        "id": "GIA2oTSYxYnO"
      },
      "outputs": [],
      "source": [
        "def list_to_string(state):\n",
        "    string=''\n",
        "    for i in state:\n",
        "        string += i\n",
        "    return string"
      ]
    },
    {
      "cell_type": "code",
      "source": [
        "def players_turn(state):\n",
        "    num = state.count('-')\n",
        "    if num % 2 == 0:\n",
        "        return 'O'\n",
        "    else:\n",
        "        return 'X'"
      ],
      "metadata": {
        "id": "v6pxRASvxgr_"
      },
      "execution_count": 35,
      "outputs": []
    },
    {
      "cell_type": "code",
      "source": [
        "def is_terminal(state):\n",
        "    if state[0] == state[1] == state[2] == 'X':\n",
        "        return True, 1\n",
        "    elif state[3] == state[4] == state[5] == 'X':\n",
        "        return True, 1\n",
        "    elif state[6] == state[7] == state[8] == 'X':\n",
        "        return True, 1\n",
        "    elif state[0] == state[3] == state[6] == 'X':\n",
        "        return True, 1\n",
        "    elif state[1] == state[4] == state[7] == 'X':\n",
        "        return True, 1\n",
        "    elif state[2] == state[5] == state[8] == 'X':\n",
        "        return True, 1\n",
        "    elif state[0] == state[4] == state[8] == 'X':\n",
        "        return True, 1\n",
        "    elif state[2] == state[4] == state[6] == 'X':\n",
        "        return True, 1\n",
        "    elif state[0] == state[1] == state[2] == 'O':\n",
        "        return True, -1\n",
        "    elif state[3] == state[4] == state[5] == 'O':\n",
        "        return True, -1\n",
        "    elif state[6] == state[7] == state[8] == 'O':\n",
        "        return True, -1\n",
        "    elif state[0] == state[3] == state[6] == 'O':\n",
        "        return True, -1\n",
        "    elif state[1] == state[4] == state[7] == 'O':\n",
        "        return True, -1\n",
        "    elif state[2] == state[5] == state[8] == 'O':\n",
        "        return True, -1\n",
        "    elif state[0] == state[4] == state[8] == 'O':\n",
        "        return True, -1\n",
        "    elif state[2] == state[4] == state[6] == 'O':\n",
        "        return True, -1\n",
        "    elif state.count('-') == 0:\n",
        "        return True, 0\n",
        "    else:\n",
        "        return False, 0"
      ],
      "metadata": {
        "id": "5eangjbLxjrs"
      },
      "execution_count": 3,
      "outputs": []
    },
    {
      "cell_type": "code",
      "source": [
        "tree = {}\n",
        "terminal = []\n",
        "child_parent = {}\n",
        "Scores = {}\n",
        "def create_tree(state = ['-']*9):\n",
        "    global tree\n",
        "    string_of_state = list_to_string(state)\n",
        "    tree[string_of_state] = []\n",
        "    turn = players_turn(state)\n",
        "\n",
        "    if not is_terminal(state)[0]:\n",
        "\n",
        "        for i in range(9):\n",
        "            state_copy = state.copy()\n",
        "            if state[i] == '-':\n",
        "                state_copy[i] = turn\n",
        "                state_copy_string = list_to_string(state_copy)\n",
        "                tree[string_of_state].append(state_copy_string)\n",
        "\n",
        "                if state_copy_string not in child_parent.keys():\n",
        "                    child_parent[state_copy_string] = []\n",
        "                if string_of_state not in child_parent[state_copy_string]:\n",
        "                    child_parent[state_copy_string].append(string_of_state)\n",
        "\n",
        "                value = is_terminal(state_copy_string)[1]\n",
        "                Scores[state_copy_string]=[value, turn]\n",
        "\n",
        "\n",
        "                create_tree(state_copy)\n",
        "    else:\n",
        "        if string_of_state not in terminal:\n",
        "            terminal.append(string_of_state)\n",
        "\n",
        "\n",
        "create_tree()\n",
        "child_parent['---------']=[None]\n",
        "Scores['---------']=[0, 'X']"
      ],
      "metadata": {
        "id": "HwzE61s0xmX3"
      },
      "execution_count": 36,
      "outputs": []
    },
    {
      "cell_type": "code",
      "source": [
        "def update_helper(parents):\n",
        "    while parents[0] is not None:\n",
        "        for j in parents:\n",
        "            score_list=[]\n",
        "            for k in tree[j]:\n",
        "                score_list.append(Scores[k][0])\n",
        "            if Scores[j][1] == 'X':\n",
        "                Scores[j][0] = min(score_list)\n",
        "            else:\n",
        "                Scores[j][0] = max(score_list)\n",
        "            parents = child_parent[j]\n",
        "            update_helper(parents)\n",
        "\n",
        "def update_values():\n",
        "    for i in terminal:\n",
        "        parents = child_parent[i]\n",
        "        update_helper(parents)\n",
        "\n",
        "update_values()\n",
        ""
      ],
      "metadata": {
        "id": "CSuOK0YZxo3L"
      },
      "execution_count": 37,
      "outputs": []
    },
    {
      "cell_type": "code",
      "source": [
        "data_to_store = {'dict1':tree, 'dict2':Scores}\n",
        "\n",
        "json_data = json.dumps(data_to_store, indent=2)\n",
        "with open('MinMax_data.json', 'w') as json_file:\n",
        "    json_file.write(json_data)"
      ],
      "metadata": {
        "id": "E52QWj9I2mPm"
      },
      "execution_count": 42,
      "outputs": []
    },
    {
      "cell_type": "code",
      "source": [
        "def position_for_move(state, action):\n",
        "    for i in range(9):\n",
        "        if state[i] == '-' and action[i] != '-':\n",
        "            return i\n",
        "\n",
        "def computers_move(state):\n",
        "    state = list_to_string(state)\n",
        "    childrens = tree[state]\n",
        "    score_dic = {}\n",
        "\n",
        "    for i in childrens:\n",
        "        score_dic[Scores[i][0]] = i\n",
        "    value = True\n",
        "    while value:\n",
        "        move_score = min(score_dic.keys())\n",
        "        move = score_dic[move_score]\n",
        "        value = position_for_move(state, move)\n",
        "        if value is None:\n",
        "            del score_dic[move_score]\n",
        "        else:\n",
        "            return value\n",
        "#     return value"
      ],
      "metadata": {
        "id": "OUsXw9Sgxxzt"
      },
      "execution_count": 39,
      "outputs": []
    },
    {
      "cell_type": "code",
      "source": [
        "def display(state):\n",
        "    print('-------------------')\n",
        "    print('| ',state[0],' | ',state[1],' | ',state[2],' |')\n",
        "    print('-------------------')\n",
        "    print('| ',state[3],' | ',state[4],' | ',state[5],' |')\n",
        "    print('-------------------')\n",
        "    print('| ',state[6],' | ',state[7],' | ',state[8],' |')\n",
        "    print('-------------------')"
      ],
      "metadata": {
        "id": "X1hQwgt6x2UV"
      },
      "execution_count": 40,
      "outputs": []
    },
    {
      "cell_type": "code",
      "source": [
        "def play_game():\n",
        "    state = ['-']*9\n",
        "    display(state)\n",
        "    player = 0\n",
        "    while not is_terminal(state)[0]:\n",
        "        if player % 2 !=0:\n",
        "            index = int(input(\"Enter position (0, 8):- \"))\n",
        "            state[index] = 'X'\n",
        "        else:\n",
        "            index = computers_move(state)\n",
        "            state[index]='O'\n",
        "        display(state)\n",
        "        player += 1\n",
        "\n",
        "        terminal = is_terminal(state)\n",
        "        if terminal[1] == -1:\n",
        "            return 'Sorry!! You lost'\n",
        "        elif terminal[1] == 1:\n",
        "            return 'Congrats You won'\n",
        "        elif terminal[0] and terminal[1] == 0:\n",
        "            return 'Match draw'\n",
        ""
      ],
      "metadata": {
        "id": "8IGNBM1lx5jS"
      },
      "execution_count": 41,
      "outputs": []
    },
    {
      "cell_type": "code",
      "source": [
        "play_game()"
      ],
      "metadata": {
        "id": "KnKdGdSBx7Bm"
      },
      "execution_count": null,
      "outputs": []
    }
  ]
}